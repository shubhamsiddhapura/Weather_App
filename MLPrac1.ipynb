{
  "nbformat": 4,
  "nbformat_minor": 0,
  "metadata": {
    "colab": {
      "provenance": [],
      "include_colab_link": true
    },
    "kernelspec": {
      "name": "python3",
      "display_name": "Python 3"
    },
    "language_info": {
      "name": "python"
    }
  },
  "cells": [
    {
      "cell_type": "markdown",
      "metadata": {
        "id": "view-in-github",
        "colab_type": "text"
      },
      "source": [
        "<a href=\"https://colab.research.google.com/github/shubhamsiddhapura/Weather_App/blob/main/MLPrac1.ipynb\" target=\"_parent\"><img src=\"https://colab.research.google.com/assets/colab-badge.svg\" alt=\"Open In Colab\"/></a>"
      ]
    },
    {
      "cell_type": "code",
      "execution_count": null,
      "metadata": {
        "id": "OSmzsWJh20ZE"
      },
      "outputs": [],
      "source": [
        "#ML PRAC 1"
      ]
    },
    {
      "cell_type": "code",
      "source": [
        "\"\"\"\n",
        "Package for statistics\n",
        "  1. statistics\n",
        "  2. numpy\n",
        "  3. pandas\n",
        "  4. scipy\n",
        "\"\"\""
      ],
      "metadata": {
        "id": "6FdWeUP0f_fF",
        "colab": {
          "base_uri": "https://localhost:8080/",
          "height": 53
        },
        "outputId": "545eb8c8-6a01-4488-8c4c-7644352ea104"
      },
      "execution_count": null,
      "outputs": [
        {
          "output_type": "execute_result",
          "data": {
            "text/plain": [
              "'\\nPackage for statistics\\n  1. statistics\\n  2. numpy\\n  3. pandas\\n  4. scipy\\n'"
            ],
            "application/vnd.google.colaboratory.intrinsic+json": {
              "type": "string"
            }
          },
          "metadata": {},
          "execution_count": 1
        }
      ]
    },
    {
      "cell_type": "code",
      "source": [
        "import statistics as st"
      ],
      "metadata": {
        "id": "2HRdK760hLSN"
      },
      "execution_count": null,
      "outputs": []
    },
    {
      "cell_type": "code",
      "source": [
        "#finding mean\n",
        "\n",
        "age = [20, 19, 20, 18, 21, 22]\n",
        "\n",
        "n_age = st.mean(age)\n",
        "print(\"Mean age : \", n_age)"
      ],
      "metadata": {
        "colab": {
          "base_uri": "https://localhost:8080/"
        },
        "id": "HK_6SFUVhQ7P",
        "outputId": "3638965c-6ad9-4b86-d2ce-fa81950d7648"
      },
      "execution_count": null,
      "outputs": [
        {
          "output_type": "stream",
          "name": "stdout",
          "text": [
            "Mean age :  20\n"
          ]
        }
      ]
    },
    {
      "cell_type": "code",
      "source": [
        "#finding mean 2\n",
        "\n",
        "age = [20, 19, 20, 18, 21, 22, 70]\n",
        "\n",
        "n_age = st.mean(age)\n",
        "print(\"Mean age : \", n_age)"
      ],
      "metadata": {
        "colab": {
          "base_uri": "https://localhost:8080/"
        },
        "id": "yjirqQN9i1CJ",
        "outputId": "3ae7e78c-511e-4751-dbb4-64d0d9622fc1"
      },
      "execution_count": null,
      "outputs": [
        {
          "output_type": "stream",
          "name": "stdout",
          "text": [
            "Mean age :  27.142857142857142\n"
          ]
        }
      ]
    },
    {
      "cell_type": "code",
      "source": [
        "#finding median\n",
        "\n",
        "age = [20, 19, 20, 18, 21, 22]\n",
        "\n",
        "n_age = st.median(age)\n",
        "print(\"Median age : \", n_age)"
      ],
      "metadata": {
        "colab": {
          "base_uri": "https://localhost:8080/"
        },
        "id": "2hYODBcThnf7",
        "outputId": "223ef634-5199-4763-82f2-2197bc582d17"
      },
      "execution_count": null,
      "outputs": [
        {
          "output_type": "stream",
          "name": "stdout",
          "text": [
            "Median age :  20.0\n"
          ]
        }
      ]
    },
    {
      "cell_type": "code",
      "source": [
        "#finding median 2\n",
        "\n",
        "age = [20, 19, 20, 18, 21, 22, 70]\n",
        "\n",
        "n_age = st.median(age)\n",
        "print(\"Median age : \", n_age)"
      ],
      "metadata": {
        "colab": {
          "base_uri": "https://localhost:8080/"
        },
        "id": "oX3ZNnuxjRk2",
        "outputId": "3e9a3a4b-9f73-4e3b-c477-83bceb1d660c"
      },
      "execution_count": null,
      "outputs": [
        {
          "output_type": "stream",
          "name": "stdout",
          "text": [
            "Median age :  20\n"
          ]
        }
      ]
    },
    {
      "cell_type": "code",
      "source": [
        "#finding mode\n",
        "\n",
        "s_scores = [1, 2, 3, 1, 2, 2, 2, 4, 3, 3, 1]\n",
        "\n",
        "n_s_scores = st.mode(s_scores)\n",
        "print(\"Mode age : \", n_s_scores)"
      ],
      "metadata": {
        "colab": {
          "base_uri": "https://localhost:8080/"
        },
        "id": "-nEfN9Vehx7B",
        "outputId": "64c33ca0-ab5f-477b-e3b2-c1f7ea695da1"
      },
      "execution_count": null,
      "outputs": [
        {
          "output_type": "stream",
          "name": "stdout",
          "text": [
            "Mode age :  2\n"
          ]
        }
      ]
    },
    {
      "cell_type": "code",
      "source": [
        "#finding range\n",
        "\n",
        "age = [20, 19, 20, 18, 21, 22]\n",
        "\n",
        "n_age = st.stdev(age)\n",
        "print(\"Range age : \", n_age)"
      ],
      "metadata": {
        "colab": {
          "base_uri": "https://localhost:8080/"
        },
        "id": "2Eetpr8RjfO3",
        "outputId": "ab50e7bd-b29f-41b6-b9cb-54d883b4bba6"
      },
      "execution_count": null,
      "outputs": [
        {
          "output_type": "stream",
          "name": "stdout",
          "text": [
            "Range age :  1.4142135623730951\n"
          ]
        }
      ]
    },
    {
      "cell_type": "code",
      "source": [
        "#finding range 2\n",
        "\n",
        "age = [20, 19, 20, 18, 21, 22, 70]\n",
        "\n",
        "n_age = st.stdev(age)\n",
        "print(\"Range age : \", n_age)"
      ],
      "metadata": {
        "colab": {
          "base_uri": "https://localhost:8080/"
        },
        "id": "4lG8lg7MjljN",
        "outputId": "65a24f0a-94df-42f4-ad3e-b8af1bbe5446"
      },
      "execution_count": null,
      "outputs": [
        {
          "output_type": "stream",
          "name": "stdout",
          "text": [
            "Range age :  18.942268180171133\n"
          ]
        }
      ]
    },
    {
      "cell_type": "code",
      "source": [
        "#finding variance\n",
        "\n",
        "age = [20, 19, 20, 18, 21, 22]\n",
        "\n",
        "n_age = st.variance(age)\n",
        "print(\"Variance age : \", n_age)"
      ],
      "metadata": {
        "colab": {
          "base_uri": "https://localhost:8080/"
        },
        "id": "GAlPYRy6kBlC",
        "outputId": "79c41938-569d-4433-867d-06c5a8468f00"
      },
      "execution_count": null,
      "outputs": [
        {
          "output_type": "stream",
          "name": "stdout",
          "text": [
            "Variance age :  2\n"
          ]
        }
      ]
    },
    {
      "cell_type": "code",
      "source": [
        "#finding variance 2\n",
        "\n",
        "age = [20, 19, 20, 18, 21, 22, 70]\n",
        "\n",
        "n_age = st.variance(age)\n",
        "print(\"Variance age : \", n_age)"
      ],
      "metadata": {
        "colab": {
          "base_uri": "https://localhost:8080/"
        },
        "id": "qe-H9OyDkHQu",
        "outputId": "eeab9eca-de9f-475c-d31c-ebda8dbc6426"
      },
      "execution_count": null,
      "outputs": [
        {
          "output_type": "stream",
          "name": "stdout",
          "text": [
            "Variance age :  358.8095238095238\n"
          ]
        }
      ]
    },
    {
      "cell_type": "code",
      "source": [
        "import numpy as np"
      ],
      "metadata": {
        "id": "tdugRwTIhWL5"
      },
      "execution_count": null,
      "outputs": []
    },
    {
      "cell_type": "code",
      "source": [
        "a1 = np.array(20)\n",
        "\n",
        "print(a1)\n",
        "print(\"Dim \", a1.ndim)"
      ],
      "metadata": {
        "colab": {
          "base_uri": "https://localhost:8080/"
        },
        "id": "43feQtADk_ku",
        "outputId": "92f1e9ce-cdd3-412a-8699-689183ac9d9b"
      },
      "execution_count": null,
      "outputs": [
        {
          "output_type": "stream",
          "name": "stdout",
          "text": [
            "20\n",
            "Dim  0\n"
          ]
        }
      ]
    },
    {
      "cell_type": "code",
      "source": [
        "a2 = np.array([10, 20, 30, 10, 30, 405, 505, 50, 50])\n",
        "\n",
        "print(a2)\n",
        "print(\"Dim \", a2.ndim)"
      ],
      "metadata": {
        "colab": {
          "base_uri": "https://localhost:8080/"
        },
        "id": "OthT_GdplYmQ",
        "outputId": "8f1b7025-eeb9-41ab-cae2-bb3014fb2aad"
      },
      "execution_count": null,
      "outputs": [
        {
          "output_type": "stream",
          "name": "stdout",
          "text": [
            "[ 10  20  30  10  30 405 505  50  50]\n",
            "Dim  1\n"
          ]
        }
      ]
    },
    {
      "cell_type": "code",
      "source": [
        "a3 = np.array([[10, 20, 30], [10, 30, 405], [505, 50, 50]])\n",
        "\n",
        "print(a3)\n",
        "print(\"Dim\", a3.ndim)"
      ],
      "metadata": {
        "colab": {
          "base_uri": "https://localhost:8080/"
        },
        "id": "KtEf1Eb3mP0t",
        "outputId": "a640fc31-5392-485e-e40c-ed804d3a7757"
      },
      "execution_count": null,
      "outputs": [
        {
          "output_type": "stream",
          "name": "stdout",
          "text": [
            "[[ 10  20  30]\n",
            " [ 10  30 405]\n",
            " [505  50  50]]\n",
            "Dim 2\n"
          ]
        }
      ]
    },
    {
      "cell_type": "code",
      "source": [
        "a4 = np.array([[[[10]]]])\n",
        "\n",
        "print(a4)\n",
        "print(\"Dim \", a4.ndim)"
      ],
      "metadata": {
        "colab": {
          "base_uri": "https://localhost:8080/"
        },
        "id": "P2KSJLBfm42N",
        "outputId": "2dd62a39-e2a6-4207-b9b1-ece9d47d4afa"
      },
      "execution_count": null,
      "outputs": [
        {
          "output_type": "stream",
          "name": "stdout",
          "text": [
            "[[[[10]]]]\n",
            "Dim  4\n"
          ]
        }
      ]
    },
    {
      "cell_type": "code",
      "source": [
        "a3 = np.array([[10, 20, 30], [10, 30, 405], [505, 50, 50]], dtype=np.int16)\n",
        "\n",
        "print(a3)\n",
        "print(\"Dim \", a3.ndim)\n",
        "print(\"Shape \", a3.shape)\n",
        "print(\"Size \", a3.size)\n",
        "print(\"Item Size \", a3.itemsize)\n",
        "print(\"Data Type \", a3.dtype)"
      ],
      "metadata": {
        "colab": {
          "base_uri": "https://localhost:8080/"
        },
        "id": "dhN4Ao6hn3FE",
        "outputId": "9f12d088-3836-4003-944a-c4aac722f8ac"
      },
      "execution_count": null,
      "outputs": [
        {
          "output_type": "stream",
          "name": "stdout",
          "text": [
            "[[ 10  20  30]\n",
            " [ 10  30 405]\n",
            " [505  50  50]]\n",
            "Dim  2\n",
            "Shape  (3, 3)\n",
            "Size  9\n",
            "Item Size  2\n",
            "Data Type  int16\n"
          ]
        }
      ]
    },
    {
      "cell_type": "code",
      "source": [
        "a4 = np.array([[[1], [1]], [[1], [1]]])\n",
        "\n",
        "print(\"Shape \", a4.shape)\n",
        "print(\"Size \", a4.size)"
      ],
      "metadata": {
        "colab": {
          "base_uri": "https://localhost:8080/"
        },
        "id": "YhgMNEHvpEPk",
        "outputId": "dd5a9052-f1b6-451d-ecc6-b47c8d4d69a5"
      },
      "execution_count": null,
      "outputs": [
        {
          "output_type": "stream",
          "name": "stdout",
          "text": [
            "Shape  (2, 2, 1)\n",
            "Size  4\n"
          ]
        }
      ]
    },
    {
      "cell_type": "code",
      "source": [
        "#array with junk/random numbers\n",
        "\n",
        "a11 = np.empty((5, 5))\n",
        "\n",
        "a11"
      ],
      "metadata": {
        "colab": {
          "base_uri": "https://localhost:8080/"
        },
        "id": "OcfEsfBJp_Am",
        "outputId": "6c2f4551-88d3-4279-a518-3e0e3a2dd7dd"
      },
      "execution_count": null,
      "outputs": [
        {
          "output_type": "execute_result",
          "data": {
            "text/plain": [
              "array([[ 4.97346853e-310,  0.00000000e+000,  6.84289373e-310,\n",
              "         6.84289373e-310,  6.84290308e-310],\n",
              "       [ 6.84289373e-310,  6.84289421e-310,  6.84289463e-310,\n",
              "         6.84290309e-310,  6.84290309e-310],\n",
              "       [ 6.84290453e-310,  6.84290453e-310,  6.84289376e-310,\n",
              "         7.45263174e+260,  6.84289373e-310],\n",
              "       [ 6.84289376e-310,  1.51249816e+105,  6.84289376e-310,\n",
              "         6.84289376e-310, -2.74720881e-245],\n",
              "       [ 6.84289375e-310,  6.84289376e-310, -1.48389371e-175,\n",
              "         6.84289421e-310,  1.58101007e-321]])"
            ]
          },
          "metadata": {},
          "execution_count": 23
        }
      ]
    },
    {
      "cell_type": "code",
      "source": [
        "#array with zeros\n",
        "\n",
        "a12 = np.zeros((3, 5))\n",
        "\n",
        "a12"
      ],
      "metadata": {
        "colab": {
          "base_uri": "https://localhost:8080/"
        },
        "id": "NRgii298qeQl",
        "outputId": "0c873606-482a-46ec-c551-fc8af35a3734"
      },
      "execution_count": null,
      "outputs": [
        {
          "output_type": "execute_result",
          "data": {
            "text/plain": [
              "array([[0., 0., 0., 0., 0.],\n",
              "       [0., 0., 0., 0., 0.],\n",
              "       [0., 0., 0., 0., 0.]])"
            ]
          },
          "metadata": {},
          "execution_count": 24
        }
      ]
    },
    {
      "cell_type": "code",
      "source": [
        "#array with ones\n",
        "\n",
        "a13 = np.ones((4, 4))\n",
        "\n",
        "a13"
      ],
      "metadata": {
        "colab": {
          "base_uri": "https://localhost:8080/"
        },
        "id": "-TYe6jFsq69H",
        "outputId": "449bc0a3-bd8f-4fcb-d210-c629cb308ba1"
      },
      "execution_count": null,
      "outputs": [
        {
          "output_type": "execute_result",
          "data": {
            "text/plain": [
              "array([[1., 1., 1., 1.],\n",
              "       [1., 1., 1., 1.],\n",
              "       [1., 1., 1., 1.],\n",
              "       [1., 1., 1., 1.]])"
            ]
          },
          "metadata": {},
          "execution_count": 25
        }
      ]
    },
    {
      "cell_type": "code",
      "source": [
        "#a14 = np.arange(100)\n",
        "#a14 = np.arange(1, 101)\n",
        "\n",
        "a14 = np.arange(2, 101, 2)\n",
        "\n",
        "a14"
      ],
      "metadata": {
        "colab": {
          "base_uri": "https://localhost:8080/"
        },
        "id": "Jd--A8yprj3_",
        "outputId": "0818b800-3e6e-4999-ec13-1f715546358b"
      },
      "execution_count": null,
      "outputs": [
        {
          "output_type": "execute_result",
          "data": {
            "text/plain": [
              "array([  2,   4,   6,   8,  10,  12,  14,  16,  18,  20,  22,  24,  26,\n",
              "        28,  30,  32,  34,  36,  38,  40,  42,  44,  46,  48,  50,  52,\n",
              "        54,  56,  58,  60,  62,  64,  66,  68,  70,  72,  74,  76,  78,\n",
              "        80,  82,  84,  86,  88,  90,  92,  94,  96,  98, 100])"
            ]
          },
          "metadata": {},
          "execution_count": 26
        }
      ]
    },
    {
      "cell_type": "code",
      "source": [
        "#reshaping array a14 to 10 rows and 5 columns\n",
        "\n",
        "a15 = np.reshape(a14, (10, 5))\n",
        "\n",
        "a15"
      ],
      "metadata": {
        "colab": {
          "base_uri": "https://localhost:8080/"
        },
        "id": "wqjUXJSnr5r2",
        "outputId": "1de66800-6f0d-49bf-b47a-40199a095b93"
      },
      "execution_count": null,
      "outputs": [
        {
          "output_type": "execute_result",
          "data": {
            "text/plain": [
              "array([[  2,   4,   6,   8,  10],\n",
              "       [ 12,  14,  16,  18,  20],\n",
              "       [ 22,  24,  26,  28,  30],\n",
              "       [ 32,  34,  36,  38,  40],\n",
              "       [ 42,  44,  46,  48,  50],\n",
              "       [ 52,  54,  56,  58,  60],\n",
              "       [ 62,  64,  66,  68,  70],\n",
              "       [ 72,  74,  76,  78,  80],\n",
              "       [ 82,  84,  86,  88,  90],\n",
              "       [ 92,  94,  96,  98, 100]])"
            ]
          },
          "metadata": {},
          "execution_count": 27
        }
      ]
    },
    {
      "cell_type": "code",
      "source": [
        "a14 = np.reshape(a14, (2, 5, 5))\n",
        "\n",
        "a14"
      ],
      "metadata": {
        "colab": {
          "base_uri": "https://localhost:8080/"
        },
        "id": "-RNeLekHt1Nu",
        "outputId": "5ee40a8d-c1b5-44b8-c390-40c8bf023e19"
      },
      "execution_count": null,
      "outputs": [
        {
          "output_type": "execute_result",
          "data": {
            "text/plain": [
              "array([[[  2,   4,   6,   8,  10],\n",
              "        [ 12,  14,  16,  18,  20],\n",
              "        [ 22,  24,  26,  28,  30],\n",
              "        [ 32,  34,  36,  38,  40],\n",
              "        [ 42,  44,  46,  48,  50]],\n",
              "\n",
              "       [[ 52,  54,  56,  58,  60],\n",
              "        [ 62,  64,  66,  68,  70],\n",
              "        [ 72,  74,  76,  78,  80],\n",
              "        [ 82,  84,  86,  88,  90],\n",
              "        [ 92,  94,  96,  98, 100]]])"
            ]
          },
          "metadata": {},
          "execution_count": 28
        }
      ]
    },
    {
      "cell_type": "code",
      "source": [
        "a1 = np.arange(10)\n",
        "\n",
        "a2 = np.arange(11, 21)\n",
        "\n",
        "print(a1, a2)"
      ],
      "metadata": {
        "colab": {
          "base_uri": "https://localhost:8080/"
        },
        "id": "YewEwGlGvcsD",
        "outputId": "8421f5b0-8c12-47b1-f10e-ac214b104825"
      },
      "execution_count": null,
      "outputs": [
        {
          "output_type": "stream",
          "name": "stdout",
          "text": [
            "[0 1 2 3 4 5 6 7 8 9] [11 12 13 14 15 16 17 18 19 20]\n"
          ]
        }
      ]
    },
    {
      "cell_type": "code",
      "source": [
        "#arithmetic operations by using scalar\n",
        "\n",
        "print(a1+2)\n",
        "print(a1*2)\n",
        "print(a1/2)\n",
        "print(a1**2)"
      ],
      "metadata": {
        "colab": {
          "base_uri": "https://localhost:8080/"
        },
        "id": "z3zWtmWXv3de",
        "outputId": "2f3d390e-4102-42cb-a86d-67f3cc84e28f"
      },
      "execution_count": null,
      "outputs": [
        {
          "output_type": "stream",
          "name": "stdout",
          "text": [
            "[ 2  3  4  5  6  7  8  9 10 11]\n",
            "[ 0  2  4  6  8 10 12 14 16 18]\n",
            "[0.  0.5 1.  1.5 2.  2.5 3.  3.5 4.  4.5]\n",
            "[ 0  1  4  9 16 25 36 49 64 81]\n"
          ]
        }
      ]
    },
    {
      "cell_type": "code",
      "source": [
        "#arithmetic operations using vector\n",
        "\n",
        "print(a1+a2)\n",
        "print(a1*a2)\n",
        "print(a1/a2)\n",
        "print(a1**a2)"
      ],
      "metadata": {
        "colab": {
          "base_uri": "https://localhost:8080/"
        },
        "id": "mvLoJqxwwOoq",
        "outputId": "33ed6072-4f76-4c7a-952e-ae211c789812"
      },
      "execution_count": null,
      "outputs": [
        {
          "output_type": "stream",
          "name": "stdout",
          "text": [
            "[11 13 15 17 19 21 23 25 27 29]\n",
            "[  0  12  26  42  60  80 102 126 152 180]\n",
            "[0.         0.08333333 0.15384615 0.21428571 0.26666667 0.3125\n",
            " 0.35294118 0.38888889 0.42105263 0.45      ]\n",
            "[                   0                    1                 8192\n",
            "              4782969           1073741824         152587890625\n",
            "       16926659444736     1628413597910449   144115188075855872\n",
            " -6289078614652622815]\n"
          ]
        }
      ]
    },
    {
      "cell_type": "code",
      "source": [
        "#random numbers\n",
        "\n",
        "print(np.random.rand())\n",
        "print(np.random.randn())\n",
        "print(np.random.rand(2, 5, 2))"
      ],
      "metadata": {
        "colab": {
          "base_uri": "https://localhost:8080/"
        },
        "id": "yota08mwxPwo",
        "outputId": "a47e50e5-a4d9-4dc2-9c2f-ea07611ddc60"
      },
      "execution_count": null,
      "outputs": [
        {
          "output_type": "stream",
          "name": "stdout",
          "text": [
            "0.675707144258379\n",
            "0.04547220424241208\n",
            "[[[0.01039197 0.72289522]\n",
            "  [0.23741511 0.60870328]\n",
            "  [0.54229544 0.84358913]\n",
            "  [0.26217342 0.46779989]\n",
            "  [0.9908857  0.06663636]]\n",
            "\n",
            " [[0.3547358  0.58089513]\n",
            "  [0.9382128  0.99257209]\n",
            "  [0.26869196 0.02104401]\n",
            "  [0.5754659  0.18569764]\n",
            "  [0.01377449 0.3582348 ]]]\n"
          ]
        }
      ]
    },
    {
      "cell_type": "code",
      "source": [
        "a1 = np.arange(10, 100, 10)\n",
        "a1"
      ],
      "metadata": {
        "colab": {
          "base_uri": "https://localhost:8080/"
        },
        "id": "FPGgN1KKy7cW",
        "outputId": "0e3b5bc1-cc65-4c26-ddf1-5e06820f2ed9"
      },
      "execution_count": null,
      "outputs": [
        {
          "output_type": "execute_result",
          "data": {
            "text/plain": [
              "array([10, 20, 30, 40, 50, 60, 70, 80, 90])"
            ]
          },
          "metadata": {},
          "execution_count": 33
        }
      ]
    },
    {
      "cell_type": "code",
      "source": [
        "print('1st ele: ', a1[0])"
      ],
      "metadata": {
        "colab": {
          "base_uri": "https://localhost:8080/"
        },
        "id": "3mc130fIg6W3",
        "outputId": "4f251c02-abc6-4739-b5b8-1bbde480b948"
      },
      "execution_count": null,
      "outputs": [
        {
          "output_type": "stream",
          "name": "stdout",
          "text": [
            "1st ele:  10\n"
          ]
        }
      ]
    },
    {
      "cell_type": "code",
      "source": [
        "print('5th ele: ', a1[4])"
      ],
      "metadata": {
        "colab": {
          "base_uri": "https://localhost:8080/"
        },
        "id": "gVoZLrlYh-A_",
        "outputId": "58d28e0a-a775-44f0-e6eb-553358d46360"
      },
      "execution_count": null,
      "outputs": [
        {
          "output_type": "stream",
          "name": "stdout",
          "text": [
            "5th ele:  50\n"
          ]
        }
      ]
    },
    {
      "cell_type": "code",
      "source": [
        "print('last ele: ', a1[-1])"
      ],
      "metadata": {
        "colab": {
          "base_uri": "https://localhost:8080/"
        },
        "id": "vqZlWYW5iGhZ",
        "outputId": "dc373112-a2d0-4a86-8d39-1fa05fa32235"
      },
      "execution_count": null,
      "outputs": [
        {
          "output_type": "stream",
          "name": "stdout",
          "text": [
            "last ele:  90\n"
          ]
        }
      ]
    },
    {
      "cell_type": "code",
      "source": [
        "print('2nd ele from rev end: ', a1[-2])"
      ],
      "metadata": {
        "colab": {
          "base_uri": "https://localhost:8080/"
        },
        "id": "fTphGalYiVDN",
        "outputId": "14088458-b920-4b4f-e3a3-a501ed1d9754"
      },
      "execution_count": null,
      "outputs": [
        {
          "output_type": "stream",
          "name": "stdout",
          "text": [
            "2nd ele from rev end:  80\n"
          ]
        }
      ]
    },
    {
      "cell_type": "code",
      "source": [
        "print('1st 5 eles: ', a1[:5])"
      ],
      "metadata": {
        "colab": {
          "base_uri": "https://localhost:8080/"
        },
        "id": "EjaTvioaid6G",
        "outputId": "c07a59b6-b635-42e9-dd5b-a172d958c229"
      },
      "execution_count": null,
      "outputs": [
        {
          "output_type": "stream",
          "name": "stdout",
          "text": [
            "1st 5 eles:  [10 20 30 40 50]\n"
          ]
        }
      ]
    },
    {
      "cell_type": "code",
      "source": [
        "print('last 5 eles: ', a1[-5:])"
      ],
      "metadata": {
        "colab": {
          "base_uri": "https://localhost:8080/"
        },
        "id": "IYhHdrJsimHT",
        "outputId": "0a23b0a4-24ad-4c68-c6d8-52397e8d97d7"
      },
      "execution_count": null,
      "outputs": [
        {
          "output_type": "stream",
          "name": "stdout",
          "text": [
            "last 5 eles:  [50 60 70 80 90]\n"
          ]
        }
      ]
    },
    {
      "cell_type": "code",
      "source": [
        "print('alternate eles: ', a1[::2])"
      ],
      "metadata": {
        "colab": {
          "base_uri": "https://localhost:8080/"
        },
        "id": "HSonPGVDi3zd",
        "outputId": "15dfebbe-81ca-405f-dd01-cde6da5cf3c7"
      },
      "execution_count": null,
      "outputs": [
        {
          "output_type": "stream",
          "name": "stdout",
          "text": [
            "alternate eles:  [10 30 50 70 90]\n"
          ]
        }
      ]
    },
    {
      "cell_type": "code",
      "source": [
        "a12 = np.arange(1,101)\n",
        "a12 = np.reshape(a12, (10,10))\n",
        "\n",
        "a12"
      ],
      "metadata": {
        "colab": {
          "base_uri": "https://localhost:8080/"
        },
        "id": "dPt4XMLajA3T",
        "outputId": "4b0774aa-5678-44f8-9aea-0c1b8e5da142"
      },
      "execution_count": null,
      "outputs": [
        {
          "output_type": "execute_result",
          "data": {
            "text/plain": [
              "array([[  1,   2,   3,   4,   5,   6,   7,   8,   9,  10],\n",
              "       [ 11,  12,  13,  14,  15,  16,  17,  18,  19,  20],\n",
              "       [ 21,  22,  23,  24,  25,  26,  27,  28,  29,  30],\n",
              "       [ 31,  32,  33,  34,  35,  36,  37,  38,  39,  40],\n",
              "       [ 41,  42,  43,  44,  45,  46,  47,  48,  49,  50],\n",
              "       [ 51,  52,  53,  54,  55,  56,  57,  58,  59,  60],\n",
              "       [ 61,  62,  63,  64,  65,  66,  67,  68,  69,  70],\n",
              "       [ 71,  72,  73,  74,  75,  76,  77,  78,  79,  80],\n",
              "       [ 81,  82,  83,  84,  85,  86,  87,  88,  89,  90],\n",
              "       [ 91,  92,  93,  94,  95,  96,  97,  98,  99, 100]])"
            ]
          },
          "metadata": {},
          "execution_count": 45
        }
      ]
    },
    {
      "cell_type": "code",
      "source": [
        "print('1st and last row values from coulmns 4 to 8')\n",
        "print(a12[[0, -1], 3:8])"
      ],
      "metadata": {
        "colab": {
          "base_uri": "https://localhost:8080/"
        },
        "id": "qVye4mmvjm_7",
        "outputId": "313f03da-3780-40a0-abae-25f4923e1407"
      },
      "execution_count": null,
      "outputs": [
        {
          "output_type": "stream",
          "name": "stdout",
          "text": [
            "1st and last row values from coulmns 4 to 8\n",
            "[[ 4  5  6  7  8]\n",
            " [94 95 96 97 98]]\n"
          ]
        }
      ]
    },
    {
      "cell_type": "code",
      "source": [
        "a1 = np.array([10, 5, 20, 8, 7, 4,  5])\n",
        "\n",
        "a1"
      ],
      "metadata": {
        "colab": {
          "base_uri": "https://localhost:8080/"
        },
        "id": "oPeYD3C5l222",
        "outputId": "66a05f3b-1a35-4a8f-c4d7-a129f721f7ed"
      },
      "execution_count": null,
      "outputs": [
        {
          "output_type": "execute_result",
          "data": {
            "text/plain": [
              "array([10,  5, 20,  8,  7,  4,  5])"
            ]
          },
          "metadata": {},
          "execution_count": 52
        }
      ]
    },
    {
      "cell_type": "code",
      "source": [
        "np.unique(a1)"
      ],
      "metadata": {
        "colab": {
          "base_uri": "https://localhost:8080/"
        },
        "id": "zN_ez0romPqV",
        "outputId": "4c1f187f-c85c-4b8d-81c5-966489907768"
      },
      "execution_count": null,
      "outputs": [
        {
          "output_type": "execute_result",
          "data": {
            "text/plain": [
              "array([ 4,  5,  7,  8, 10, 20])"
            ]
          },
          "metadata": {},
          "execution_count": 53
        }
      ]
    },
    {
      "cell_type": "code",
      "source": [
        "np.sort(a1)[::-1]"
      ],
      "metadata": {
        "colab": {
          "base_uri": "https://localhost:8080/"
        },
        "id": "W9qeghPumabG",
        "outputId": "eca6672e-ba5b-4d48-ea90-2fd955f5ec3b"
      },
      "execution_count": null,
      "outputs": [
        {
          "output_type": "execute_result",
          "data": {
            "text/plain": [
              "array([20, 10,  8,  7,  5,  5,  4])"
            ]
          },
          "metadata": {},
          "execution_count": 54
        }
      ]
    },
    {
      "cell_type": "code",
      "source": [
        "np.argmax(a1)"
      ],
      "metadata": {
        "colab": {
          "base_uri": "https://localhost:8080/"
        },
        "id": "OerJZrdlmi4M",
        "outputId": "2b0b31cb-ebfc-4d89-f1c8-12af7fa27456"
      },
      "execution_count": null,
      "outputs": [
        {
          "output_type": "execute_result",
          "data": {
            "text/plain": [
              "2"
            ]
          },
          "metadata": {},
          "execution_count": 55
        }
      ]
    },
    {
      "cell_type": "code",
      "source": [
        "import pandas as pd"
      ],
      "metadata": {
        "id": "ExeVnpc0nR9k"
      },
      "execution_count": null,
      "outputs": []
    },
    {
      "cell_type": "code",
      "source": [
        "prod_dict = {\n",
        "    'pid': [10, 20, 30, 40],\n",
        "    'pname': ['Laptop', 'Mobile', 'TV', 'AC'],\n",
        "    'price': [10000, 20000, 30000, 40000],\n",
        "    'vendor': ['ABC', 'XYZ', 'PQR', 'LMN']\n",
        "}\n",
        "\n",
        "prod_dict"
      ],
      "metadata": {
        "colab": {
          "base_uri": "https://localhost:8080/"
        },
        "id": "YAjsH1qSnXXk",
        "outputId": "093a0871-85c5-405f-e7f1-f5e41504d242"
      },
      "execution_count": null,
      "outputs": [
        {
          "output_type": "execute_result",
          "data": {
            "text/plain": [
              "{'pid': [10, 20, 30, 40],\n",
              " 'pname': ['Laptop', 'Mobile', 'TV', 'AC'],\n",
              " 'price': [10000, 20000, 30000, 40000],\n",
              " 'vendor': ['ABC', 'XYZ', 'PQR', 'LMN']}"
            ]
          },
          "metadata": {},
          "execution_count": 61
        }
      ]
    },
    {
      "cell_type": "code",
      "source": [
        "prod_df = pd.DataFrame(prod_dict)\n",
        "\n",
        "prod_df"
      ],
      "metadata": {
        "colab": {
          "base_uri": "https://localhost:8080/",
          "height": 175
        },
        "id": "hFOik5s400Lf",
        "outputId": "f644fa94-8cfc-49fb-eaf9-ad2392d3468b"
      },
      "execution_count": null,
      "outputs": [
        {
          "output_type": "execute_result",
          "data": {
            "text/plain": [
              "   pid   pname  price vendor\n",
              "0   10  Laptop  10000    ABC\n",
              "1   20  Mobile  20000    XYZ\n",
              "2   30      TV  30000    PQR\n",
              "3   40      AC  40000    LMN"
            ],
            "text/html": [
              "\n",
              "  <div id=\"df-0a586a09-affe-4650-ac1f-31d3ff38426d\" class=\"colab-df-container\">\n",
              "    <div>\n",
              "<style scoped>\n",
              "    .dataframe tbody tr th:only-of-type {\n",
              "        vertical-align: middle;\n",
              "    }\n",
              "\n",
              "    .dataframe tbody tr th {\n",
              "        vertical-align: top;\n",
              "    }\n",
              "\n",
              "    .dataframe thead th {\n",
              "        text-align: right;\n",
              "    }\n",
              "</style>\n",
              "<table border=\"1\" class=\"dataframe\">\n",
              "  <thead>\n",
              "    <tr style=\"text-align: right;\">\n",
              "      <th></th>\n",
              "      <th>pid</th>\n",
              "      <th>pname</th>\n",
              "      <th>price</th>\n",
              "      <th>vendor</th>\n",
              "    </tr>\n",
              "  </thead>\n",
              "  <tbody>\n",
              "    <tr>\n",
              "      <th>0</th>\n",
              "      <td>10</td>\n",
              "      <td>Laptop</td>\n",
              "      <td>10000</td>\n",
              "      <td>ABC</td>\n",
              "    </tr>\n",
              "    <tr>\n",
              "      <th>1</th>\n",
              "      <td>20</td>\n",
              "      <td>Mobile</td>\n",
              "      <td>20000</td>\n",
              "      <td>XYZ</td>\n",
              "    </tr>\n",
              "    <tr>\n",
              "      <th>2</th>\n",
              "      <td>30</td>\n",
              "      <td>TV</td>\n",
              "      <td>30000</td>\n",
              "      <td>PQR</td>\n",
              "    </tr>\n",
              "    <tr>\n",
              "      <th>3</th>\n",
              "      <td>40</td>\n",
              "      <td>AC</td>\n",
              "      <td>40000</td>\n",
              "      <td>LMN</td>\n",
              "    </tr>\n",
              "  </tbody>\n",
              "</table>\n",
              "</div>\n",
              "    <div class=\"colab-df-buttons\">\n",
              "\n",
              "  <div class=\"colab-df-container\">\n",
              "    <button class=\"colab-df-convert\" onclick=\"convertToInteractive('df-0a586a09-affe-4650-ac1f-31d3ff38426d')\"\n",
              "            title=\"Convert this dataframe to an interactive table.\"\n",
              "            style=\"display:none;\">\n",
              "\n",
              "  <svg xmlns=\"http://www.w3.org/2000/svg\" height=\"24px\" viewBox=\"0 -960 960 960\">\n",
              "    <path d=\"M120-120v-720h720v720H120Zm60-500h600v-160H180v160Zm220 220h160v-160H400v160Zm0 220h160v-160H400v160ZM180-400h160v-160H180v160Zm440 0h160v-160H620v160ZM180-180h160v-160H180v160Zm440 0h160v-160H620v160Z\"/>\n",
              "  </svg>\n",
              "    </button>\n",
              "\n",
              "  <style>\n",
              "    .colab-df-container {\n",
              "      display:flex;\n",
              "      gap: 12px;\n",
              "    }\n",
              "\n",
              "    .colab-df-convert {\n",
              "      background-color: #E8F0FE;\n",
              "      border: none;\n",
              "      border-radius: 50%;\n",
              "      cursor: pointer;\n",
              "      display: none;\n",
              "      fill: #1967D2;\n",
              "      height: 32px;\n",
              "      padding: 0 0 0 0;\n",
              "      width: 32px;\n",
              "    }\n",
              "\n",
              "    .colab-df-convert:hover {\n",
              "      background-color: #E2EBFA;\n",
              "      box-shadow: 0px 1px 2px rgba(60, 64, 67, 0.3), 0px 1px 3px 1px rgba(60, 64, 67, 0.15);\n",
              "      fill: #174EA6;\n",
              "    }\n",
              "\n",
              "    .colab-df-buttons div {\n",
              "      margin-bottom: 4px;\n",
              "    }\n",
              "\n",
              "    [theme=dark] .colab-df-convert {\n",
              "      background-color: #3B4455;\n",
              "      fill: #D2E3FC;\n",
              "    }\n",
              "\n",
              "    [theme=dark] .colab-df-convert:hover {\n",
              "      background-color: #434B5C;\n",
              "      box-shadow: 0px 1px 3px 1px rgba(0, 0, 0, 0.15);\n",
              "      filter: drop-shadow(0px 1px 2px rgba(0, 0, 0, 0.3));\n",
              "      fill: #FFFFFF;\n",
              "    }\n",
              "  </style>\n",
              "\n",
              "    <script>\n",
              "      const buttonEl =\n",
              "        document.querySelector('#df-0a586a09-affe-4650-ac1f-31d3ff38426d button.colab-df-convert');\n",
              "      buttonEl.style.display =\n",
              "        google.colab.kernel.accessAllowed ? 'block' : 'none';\n",
              "\n",
              "      async function convertToInteractive(key) {\n",
              "        const element = document.querySelector('#df-0a586a09-affe-4650-ac1f-31d3ff38426d');\n",
              "        const dataTable =\n",
              "          await google.colab.kernel.invokeFunction('convertToInteractive',\n",
              "                                                    [key], {});\n",
              "        if (!dataTable) return;\n",
              "\n",
              "        const docLinkHtml = 'Like what you see? Visit the ' +\n",
              "          '<a target=\"_blank\" href=https://colab.research.google.com/notebooks/data_table.ipynb>data table notebook</a>'\n",
              "          + ' to learn more about interactive tables.';\n",
              "        element.innerHTML = '';\n",
              "        dataTable['output_type'] = 'display_data';\n",
              "        await google.colab.output.renderOutput(dataTable, element);\n",
              "        const docLink = document.createElement('div');\n",
              "        docLink.innerHTML = docLinkHtml;\n",
              "        element.appendChild(docLink);\n",
              "      }\n",
              "    </script>\n",
              "  </div>\n",
              "\n",
              "\n",
              "<div id=\"df-f8325348-c946-4f76-9fb4-1facd3a53944\">\n",
              "  <button class=\"colab-df-quickchart\" onclick=\"quickchart('df-f8325348-c946-4f76-9fb4-1facd3a53944')\"\n",
              "            title=\"Suggest charts\"\n",
              "            style=\"display:none;\">\n",
              "\n",
              "<svg xmlns=\"http://www.w3.org/2000/svg\" height=\"24px\"viewBox=\"0 0 24 24\"\n",
              "     width=\"24px\">\n",
              "    <g>\n",
              "        <path d=\"M19 3H5c-1.1 0-2 .9-2 2v14c0 1.1.9 2 2 2h14c1.1 0 2-.9 2-2V5c0-1.1-.9-2-2-2zM9 17H7v-7h2v7zm4 0h-2V7h2v10zm4 0h-2v-4h2v4z\"/>\n",
              "    </g>\n",
              "</svg>\n",
              "  </button>\n",
              "\n",
              "<style>\n",
              "  .colab-df-quickchart {\n",
              "      --bg-color: #E8F0FE;\n",
              "      --fill-color: #1967D2;\n",
              "      --hover-bg-color: #E2EBFA;\n",
              "      --hover-fill-color: #174EA6;\n",
              "      --disabled-fill-color: #AAA;\n",
              "      --disabled-bg-color: #DDD;\n",
              "  }\n",
              "\n",
              "  [theme=dark] .colab-df-quickchart {\n",
              "      --bg-color: #3B4455;\n",
              "      --fill-color: #D2E3FC;\n",
              "      --hover-bg-color: #434B5C;\n",
              "      --hover-fill-color: #FFFFFF;\n",
              "      --disabled-bg-color: #3B4455;\n",
              "      --disabled-fill-color: #666;\n",
              "  }\n",
              "\n",
              "  .colab-df-quickchart {\n",
              "    background-color: var(--bg-color);\n",
              "    border: none;\n",
              "    border-radius: 50%;\n",
              "    cursor: pointer;\n",
              "    display: none;\n",
              "    fill: var(--fill-color);\n",
              "    height: 32px;\n",
              "    padding: 0;\n",
              "    width: 32px;\n",
              "  }\n",
              "\n",
              "  .colab-df-quickchart:hover {\n",
              "    background-color: var(--hover-bg-color);\n",
              "    box-shadow: 0 1px 2px rgba(60, 64, 67, 0.3), 0 1px 3px 1px rgba(60, 64, 67, 0.15);\n",
              "    fill: var(--button-hover-fill-color);\n",
              "  }\n",
              "\n",
              "  .colab-df-quickchart-complete:disabled,\n",
              "  .colab-df-quickchart-complete:disabled:hover {\n",
              "    background-color: var(--disabled-bg-color);\n",
              "    fill: var(--disabled-fill-color);\n",
              "    box-shadow: none;\n",
              "  }\n",
              "\n",
              "  .colab-df-spinner {\n",
              "    border: 2px solid var(--fill-color);\n",
              "    border-color: transparent;\n",
              "    border-bottom-color: var(--fill-color);\n",
              "    animation:\n",
              "      spin 1s steps(1) infinite;\n",
              "  }\n",
              "\n",
              "  @keyframes spin {\n",
              "    0% {\n",
              "      border-color: transparent;\n",
              "      border-bottom-color: var(--fill-color);\n",
              "      border-left-color: var(--fill-color);\n",
              "    }\n",
              "    20% {\n",
              "      border-color: transparent;\n",
              "      border-left-color: var(--fill-color);\n",
              "      border-top-color: var(--fill-color);\n",
              "    }\n",
              "    30% {\n",
              "      border-color: transparent;\n",
              "      border-left-color: var(--fill-color);\n",
              "      border-top-color: var(--fill-color);\n",
              "      border-right-color: var(--fill-color);\n",
              "    }\n",
              "    40% {\n",
              "      border-color: transparent;\n",
              "      border-right-color: var(--fill-color);\n",
              "      border-top-color: var(--fill-color);\n",
              "    }\n",
              "    60% {\n",
              "      border-color: transparent;\n",
              "      border-right-color: var(--fill-color);\n",
              "    }\n",
              "    80% {\n",
              "      border-color: transparent;\n",
              "      border-right-color: var(--fill-color);\n",
              "      border-bottom-color: var(--fill-color);\n",
              "    }\n",
              "    90% {\n",
              "      border-color: transparent;\n",
              "      border-bottom-color: var(--fill-color);\n",
              "    }\n",
              "  }\n",
              "</style>\n",
              "\n",
              "  <script>\n",
              "    async function quickchart(key) {\n",
              "      const quickchartButtonEl =\n",
              "        document.querySelector('#' + key + ' button');\n",
              "      quickchartButtonEl.disabled = true;  // To prevent multiple clicks.\n",
              "      quickchartButtonEl.classList.add('colab-df-spinner');\n",
              "      try {\n",
              "        const charts = await google.colab.kernel.invokeFunction(\n",
              "            'suggestCharts', [key], {});\n",
              "      } catch (error) {\n",
              "        console.error('Error during call to suggestCharts:', error);\n",
              "      }\n",
              "      quickchartButtonEl.classList.remove('colab-df-spinner');\n",
              "      quickchartButtonEl.classList.add('colab-df-quickchart-complete');\n",
              "    }\n",
              "    (() => {\n",
              "      let quickchartButtonEl =\n",
              "        document.querySelector('#df-f8325348-c946-4f76-9fb4-1facd3a53944 button');\n",
              "      quickchartButtonEl.style.display =\n",
              "        google.colab.kernel.accessAllowed ? 'block' : 'none';\n",
              "    })();\n",
              "  </script>\n",
              "</div>\n",
              "\n",
              "  <div id=\"id_a0984d47-4f8a-4c53-b8ef-c1a5d78ffa0b\">\n",
              "    <style>\n",
              "      .colab-df-generate {\n",
              "        background-color: #E8F0FE;\n",
              "        border: none;\n",
              "        border-radius: 50%;\n",
              "        cursor: pointer;\n",
              "        display: none;\n",
              "        fill: #1967D2;\n",
              "        height: 32px;\n",
              "        padding: 0 0 0 0;\n",
              "        width: 32px;\n",
              "      }\n",
              "\n",
              "      .colab-df-generate:hover {\n",
              "        background-color: #E2EBFA;\n",
              "        box-shadow: 0px 1px 2px rgba(60, 64, 67, 0.3), 0px 1px 3px 1px rgba(60, 64, 67, 0.15);\n",
              "        fill: #174EA6;\n",
              "      }\n",
              "\n",
              "      [theme=dark] .colab-df-generate {\n",
              "        background-color: #3B4455;\n",
              "        fill: #D2E3FC;\n",
              "      }\n",
              "\n",
              "      [theme=dark] .colab-df-generate:hover {\n",
              "        background-color: #434B5C;\n",
              "        box-shadow: 0px 1px 3px 1px rgba(0, 0, 0, 0.15);\n",
              "        filter: drop-shadow(0px 1px 2px rgba(0, 0, 0, 0.3));\n",
              "        fill: #FFFFFF;\n",
              "      }\n",
              "    </style>\n",
              "    <button class=\"colab-df-generate\" onclick=\"generateWithVariable('prod_df')\"\n",
              "            title=\"Generate code using this dataframe.\"\n",
              "            style=\"display:none;\">\n",
              "\n",
              "  <svg xmlns=\"http://www.w3.org/2000/svg\" height=\"24px\"viewBox=\"0 0 24 24\"\n",
              "       width=\"24px\">\n",
              "    <path d=\"M7,19H8.4L18.45,9,17,7.55,7,17.6ZM5,21V16.75L18.45,3.32a2,2,0,0,1,2.83,0l1.4,1.43a1.91,1.91,0,0,1,.58,1.4,1.91,1.91,0,0,1-.58,1.4L9.25,21ZM18.45,9,17,7.55Zm-12,3A5.31,5.31,0,0,0,4.9,8.1,5.31,5.31,0,0,0,1,6.5,5.31,5.31,0,0,0,4.9,4.9,5.31,5.31,0,0,0,6.5,1,5.31,5.31,0,0,0,8.1,4.9,5.31,5.31,0,0,0,12,6.5,5.46,5.46,0,0,0,6.5,12Z\"/>\n",
              "  </svg>\n",
              "    </button>\n",
              "    <script>\n",
              "      (() => {\n",
              "      const buttonEl =\n",
              "        document.querySelector('#id_a0984d47-4f8a-4c53-b8ef-c1a5d78ffa0b button.colab-df-generate');\n",
              "      buttonEl.style.display =\n",
              "        google.colab.kernel.accessAllowed ? 'block' : 'none';\n",
              "\n",
              "      buttonEl.onclick = () => {\n",
              "        google.colab.notebook.generateWithVariable('prod_df');\n",
              "      }\n",
              "      })();\n",
              "    </script>\n",
              "  </div>\n",
              "\n",
              "    </div>\n",
              "  </div>\n"
            ],
            "application/vnd.google.colaboratory.intrinsic+json": {
              "type": "dataframe",
              "variable_name": "prod_df",
              "summary": "{\n  \"name\": \"prod_df\",\n  \"rows\": 4,\n  \"fields\": [\n    {\n      \"column\": \"pid\",\n      \"properties\": {\n        \"dtype\": \"number\",\n        \"std\": 12,\n        \"min\": 10,\n        \"max\": 40,\n        \"num_unique_values\": 4,\n        \"samples\": [\n          20,\n          40,\n          10\n        ],\n        \"semantic_type\": \"\",\n        \"description\": \"\"\n      }\n    },\n    {\n      \"column\": \"pname\",\n      \"properties\": {\n        \"dtype\": \"string\",\n        \"num_unique_values\": 4,\n        \"samples\": [\n          \"Mobile\",\n          \"AC\",\n          \"Laptop\"\n        ],\n        \"semantic_type\": \"\",\n        \"description\": \"\"\n      }\n    },\n    {\n      \"column\": \"price\",\n      \"properties\": {\n        \"dtype\": \"number\",\n        \"std\": 12909,\n        \"min\": 10000,\n        \"max\": 40000,\n        \"num_unique_values\": 4,\n        \"samples\": [\n          20000,\n          40000,\n          10000\n        ],\n        \"semantic_type\": \"\",\n        \"description\": \"\"\n      }\n    },\n    {\n      \"column\": \"vendor\",\n      \"properties\": {\n        \"dtype\": \"string\",\n        \"num_unique_values\": 4,\n        \"samples\": [\n          \"XYZ\",\n          \"LMN\",\n          \"ABC\"\n        ],\n        \"semantic_type\": \"\",\n        \"description\": \"\"\n      }\n    }\n  ]\n}"
            }
          },
          "metadata": {},
          "execution_count": 62
        }
      ]
    },
    {
      "cell_type": "code",
      "source": [
        "prod_df.size"
      ],
      "metadata": {
        "colab": {
          "base_uri": "https://localhost:8080/"
        },
        "id": "4HrSRSqb07RP",
        "outputId": "791d2ed8-db43-4561-9204-8978fbd75f66"
      },
      "execution_count": null,
      "outputs": [
        {
          "output_type": "execute_result",
          "data": {
            "text/plain": [
              "16"
            ]
          },
          "metadata": {},
          "execution_count": 63
        }
      ]
    },
    {
      "cell_type": "code",
      "source": [
        "prod_df.dtypes"
      ],
      "metadata": {
        "colab": {
          "base_uri": "https://localhost:8080/"
        },
        "id": "LOCqwwtE1BR6",
        "outputId": "d252963d-ebd9-450a-b63a-7b3399a5fc96"
      },
      "execution_count": null,
      "outputs": [
        {
          "output_type": "execute_result",
          "data": {
            "text/plain": [
              "pid        int64\n",
              "pname     object\n",
              "price      int64\n",
              "vendor    object\n",
              "dtype: object"
            ]
          },
          "metadata": {},
          "execution_count": 64
        }
      ]
    },
    {
      "cell_type": "code",
      "source": [
        "prod_df.index"
      ],
      "metadata": {
        "colab": {
          "base_uri": "https://localhost:8080/"
        },
        "id": "rJMxQym61LAw",
        "outputId": "9340fd71-aefa-49b2-c29d-b4ac1a77e32d"
      },
      "execution_count": null,
      "outputs": [
        {
          "output_type": "execute_result",
          "data": {
            "text/plain": [
              "RangeIndex(start=0, stop=4, step=1)"
            ]
          },
          "metadata": {},
          "execution_count": 65
        }
      ]
    }
  ]
}